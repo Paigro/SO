{
 "cells": [
  {
   "cell_type": "markdown",
   "id": "507bc07b",
   "metadata": {},
   "source": [
    "#### Glosario comandos de linux"
   ]
  },
  {
   "cell_type": "code",
   "execution_count": null,
   "id": "52e1592f",
   "metadata": {
    "vscode": {
     "languageId": "powershell"
    }
   },
   "outputs": [],
   "source": [
    "$ ls : Lista archivos y directorios.\n",
    "$ pwd : Muestra el path actual.\n",
    "$ mkdir : Crea nuevos directorios.\n",
    "$ rm : Elimina archivos y directorios.\n",
    "$ mv : Mueve o renombra archivos y directorios.\n",
    "$ cp : Copia archivos y directorios.\n",
    "\n",
    "$ stat : Muestra el estado de un archivo o sistema de archivos (en un enlace simbolico info del fichero original).\n",
    "$ fstat : Muestra el estado de un sistema de ficheros.\n",
    "$ lstat : Muestra el estado del propio enlace.\n",
    "$ touch : Actualiza los tiempos de acceso y modificación de un fichero (si no existe lo crea).\n",
    "\n",
    "$ chmod : Cambia los permisos de un archivo o directorio.\n",
    "$ chown : Cambia el propietario y grupo de un archivo o directorio.\n",
    "$ chgrp : Cambia el grupo asociado a un archivo o directorio.\n",
    "\n",
    "$ ln : Crea enlaces físicos o simbólicos entre archivos y directorios.\n",
    "$ readlink : Leer el contenido de un enlace simbolico.\n",
    "$ file : Muestra el tipo de un archivo.\n",
    "$ file $(ls) : utiliza lo devuelto por ls como argumentos para file."
   ]
  },
  {
   "cell_type": "markdown",
   "id": "419b5283",
   "metadata": {
    "vscode": {
     "languageId": "raw"
    }
   },
   "source": [
    "#### Funciones de manejo de ficheros en C (equivalentes a comandos de Linux)"
   ]
  },
  {
   "cell_type": "code",
   "execution_count": null,
   "id": "7e187341",
   "metadata": {
    "vscode": {
     "languageId": "c"
    }
   },
   "outputs": [],
   "source": [
    "\n",
    "int link (const chat *old, const char *new) // equivalente a $ ln\n",
    "int symlink(const char *old, const char *new) // equivalente a $ ln -s\n",
    "int readlink(const char *path, char *buf, size_t)\n",
    "\n",
    "// MIRAR DIAPOSITIVA 18 TEMA 2 PARA INFO DE LAS FLAGS.\n",
    "// path: donde esta el fichero, flags: como abrir el fichero, mode: \n",
    "// Devuelve un descriptor de fichero o -1 si hay error \n",
    "int open(const char *path, int flags) // Abre un fichero.\n",
    "int open(const char *path, int flags, mode_t mode) // Abre un fichero con un modo (necesario para algunos flags).\n",
    "\n",
    "// Devuelve: el numero de bytes que ha leido; 0 si ha llegado al final; -1 si hay error.\n",
    "ssize_t read(int fd, void *buf, size_t count) // Lee count bytes del descriptor fd (fichero) y los guarda en buf (path); count = cantidad de datos a leer.\n",
    "ssize_t write(int fd, const void *buf, size_t count) // Escribe count bytes del buffer buf en el fichero fd. Devuelve el numero de bytes escritos o -1 si hay error.\n",
    "off_t lseek(int fd, off_t offset, int whence) // Cambia la posicion del cursor de lectura/escritura del fichero fd. Devuelve la nueva posicion o -1 si hay error.\n",
    "int close(int fd) // Cierra el fichero fd. Devuelve 0 si todo va bien o -1 si hay error.\n",
    "/*whence puede ser:\n",
    "    SEEK_SET: desde el principio del fichero.\n",
    "    SEEK_CUR: desde la posicion actual.\n",
    "    SEEK_END: desde el final del fichero.\n",
    "*/\n",
    "\n",
    "int fsync(int fd) // Fuerza la sincronizacion de las cache.\n",
    "\n",
    "// name: path completo\n",
    "DIR *opendir(const chat *name); // Abre un directorio. Devuelve puntero al directorio.\n",
    "int closedir(d);"
   ]
  },
  {
   "cell_type": "markdown",
   "id": "a6616ce6",
   "metadata": {},
   "source": [
    "CUIDADO!! NO MEZCLAR LLAMADAS AL SISTEMA DE BAJO NIVEL DE C, CON USO DE LIBRERIAS DE C++."
   ]
  },
  {
   "cell_type": "markdown",
   "id": "939f22e4",
   "metadata": {},
   "source": [
    "#### Ejercicio 4 de la hoja"
   ]
  },
  {
   "cell_type": "raw",
   "id": "6016d2a0",
   "metadata": {},
   "source": [
    "Cuando haces un archivo tienes una mascara de bits que define el tipo de archivo\n",
    "(Consultar pagina del manual \"man 2 stat\")\n",
    "para saber el tipo de archivo hay una serie de macros, ejemplo:\n",
    "    S_ISREG(m) -> is regular file?\n",
    "    S_ISDIR(m) -> is directory?\n",
    "Tambien se puede usar el numero octal, pero esto es mas claro y directo."
   ]
  },
  {
   "cell_type": "code",
   "execution_count": null,
   "id": "e93cf2f2",
   "metadata": {
    "vscode": {
     "languageId": "c"
    }
   },
   "outputs": [],
   "source": [
    "#include <sys/types.h>\n",
    "#include <stdio.h>\n",
    "\n",
    "int main(int argc, char *argv[]) {\n",
    "    struct stat statbuf;\n",
    "\n",
    "    int rc = lstat(argv[1], &statbuf);\n",
    "    if (rc == -1) {\n",
    "        perror(\"stat()\");\n",
    "        return 1; // devolver numero distinto de 0 si hay error\n",
    "    }\n",
    "\n",
    "    // Utilizacion de las macros para determinar el tipo de archivo\n",
    "    if (S_DIR(statbuf.st_mode)) { // Pasas el atributo st_mode de la estructura stat\n",
    "        printf(\"%s/\\n\", argv[1]); // Ponemos / para indicar que es un directorio.\n",
    "    } \n",
    "    else if (S_ISREG(statbuf.st_mode)) {\n",
    "        if (statbuf.st_mode & (S_IXUSR | S_XGRP | S_XOTH)) { // Usamos las mascaras de bits para ver si hay permiso de ejecucion **\n",
    "            printf(\"%s*\\n\", argv[1]); // Ponemos * para indicar que es un ejecutable.\n",
    "        } \n",
    "        else {\n",
    "            printf(\"%s-\\n\", argv[1]); // Ponemos - para indicar que es un fichero regular.\n",
    "        }\n",
    "    }\n",
    "\n",
    "    return 0; // devolver 0 si no hay error\n",
    "}"
   ]
  },
  {
   "cell_type": "raw",
   "id": "94fa2d92",
   "metadata": {
    "vscode": {
     "languageId": "raw"
    }
   },
   "source": [
    "Con statbuf.st_mode & (S_IXUSR | S_XGRP | S_XOTH)\n",
    "S_IXUSR =   001 000 000\n",
    "S_XGRP =    000 001 000\n",
    "S_XOTH =    000 000 001\n",
    "\n",
    "Con el \"|\" obtenemos la suma de las mascaras : \n",
    "            001 001 001\n",
    "\n",
    "Con \"&\" obtenemos los bits que coinciden en ambas variables:\n",
    "            000 000 000\n",
    "            \n",
    "Si el resultado es distinto de 0, entonces el archivo es ejecutable por algun usuario."
   ]
  },
  {
   "cell_type": "markdown",
   "id": "f90cc3b0",
   "metadata": {},
   "source": [
    "#### Ejercicio 8 de la hoja\n"
   ]
  },
  {
   "cell_type": "code",
   "execution_count": null,
   "id": "7d72ee2f",
   "metadata": {
    "vscode": {
     "languageId": "powershell"
    }
   },
   "outputs": [],
   "source": [
    "# comando DD (1)\n",
    "> dd if=/dev/urandom of = ./rand bs=512 bc=4 # crea un fichero y contenido random"
   ]
  },
  {
   "cell_type": "code",
   "execution_count": null,
   "id": "18ff2c09",
   "metadata": {
    "vscode": {
     "languageId": "c"
    }
   },
   "outputs": [],
   "source": [
    "#include <fcntl.h>\n",
    "#include <unistd.h>\n",
    "#include <stddio.h>\n",
    "#include <stdlib.h>\n",
    "\n",
    "int main(int argc, char *argv[]){\n",
    "    // APERTURA DE FICHEROS.\n",
    "\n",
    "    int in_fd, out_fd; // Descriptores con los que vamos a trabajar.\n",
    "\n",
    "    in_fd = open(argv[1], O_RDONLY); // Abrimos el fichero de entrada en modo solo lectura.\n",
    "\n",
    "    if (in_fd == -1){\n",
    "        perror(\"open() in\");\n",
    "        return 1;\n",
    "    }\n",
    "     // Abrimos el fichero de salida en modo escrituraONLY, crear si no existe, truncar el contenido.\n",
    "    out_fd = open(argv[2], O_WRONLI | O_CREAT | O_TRUNC, 0444); // Ponemos en octal los modos necesarios para las flags. (Que empiece por 0 indica que es un numero octal).\n",
    "\n",
    "    if (in_fd == -1){\n",
    "        perror(\"open() out\");\n",
    "        return 1;\n",
    "    }\n",
    "\n",
    "    // Cerramos los descriptores.\n",
    "    close(out_fd); \n",
    "    close(in_fd);\n",
    "\n",
    "    // LECTURA.\n",
    "    int bs = atoi(argv[3]); // Tamaño del bloque a leer.\n",
    "    int count = atoi(argv[4]); // Cantidad de bloques a leer.\n",
    "\n",
    "    char buffer[8192]; // Definimos un buffer de 8192 bytes (que sea char es importante).\n",
    "\n",
    "    int total_bytes = 0;\n",
    "\n",
    "    // Bucle para leer un bloque de datos.\n",
    "    // Leemos por bloques por si no se puede tener toda la informacion.\n",
    "    while(){\n",
    "        // buffer + total_bytes: Avanza el puntero hasta donde ya ha leido.\n",
    "        // bs - total_bytes: lee lo que le falta para completar el bloque.\n",
    "        int rc = read(in_fd, buffer + total_bytes, bs - total_bytes);\n",
    "\n",
    "        if (rc == 0){ // si ya se ha terminado la lectura sale del bucle\n",
    "            break;\n",
    "        }\n",
    "\n",
    "        total_bytes += rc;\n",
    "    }\n",
    "\n",
    "    if (bytes == 0){\n",
    "\n",
    "    }else if(bytes <= bs) {// El tamaño leido es menor que el de bloque.\n",
    "        // Seguimos leyendo no desde el tamaño de bloque, si no desde la cantidad que se ha podido leer, de lo contrario se pierden datos.\n",
    "\n",
    "    }\n",
    "\n",
    "    // TODO: ESCRITURA.\n",
    "        \n",
    "}"
   ]
  },
  {
   "cell_type": "markdown",
   "id": "18912616",
   "metadata": {},
   "source": [
    "#### Ejercicio 9 de la hoja"
   ]
  },
  {
   "cell_type": "code",
   "execution_count": null,
   "id": "ac00b553",
   "metadata": {
    "vscode": {
     "languageId": "c"
    }
   },
   "outputs": [],
   "source": [
    "#include <sys/types.h>\n",
    "#include <stdio.h>\n",
    "\n",
    "int main(int argc, char *argv[]) {\n",
    "    Dir * d = opendir(argv[1]);\n",
    "\n",
    "    struct dirent * dent;\n",
    "\n",
    "    while ((dent = readdir(d)) != NULL) { // Recorremos el directorio hasta que readdir devuelva NULL (fin del directorio).\n",
    "        char path[8192]; // Path a un archivo. Usar un define para no poner un numero a ojo.\n",
    "        snprintf(path,8192,\"%s/%s\", argv[1], dent->d.d_name) // \"%s/%s\": <lo que me pasan> \"/\" <lo que he obtenido>\n",
    "        printf(\"---> %s\\n\", dent->d_name);\n",
    "        \n",
    "        closedir(d)\n",
    "\n",
    "\n",
    "        // Esto es feo, pero es para no complicar el ejemplo.\n",
    "        struct stat statbuf;\n",
    "\n",
    "        int rc = lstat(path, &statbuf);\n",
    "        if (rc == -1) {\n",
    "            perror(\"stat()\");\n",
    "            return 1; // devolver numero distinto de 0 si hay error\n",
    "        }\n",
    "\n",
    "        // Utilizacion de las macros para determinar el tipo de archivo\n",
    "        if (S_DIR(statbuf.st_mode)) { // Pasas el atributo st_mode de la estructura stat\n",
    "            printf(\"%s/\\n\", path); // Ponemos / para indicar que es un directorio.\n",
    "        } \n",
    "        else if (S_ISREG(statbuf.st_mode)) {\n",
    "            if (statbuf.st_mode & (S_IXUSR | S_XGRP | S_XOTH)) { // Usamos las mascaras de bits para ver si hay permiso de ejecucion **\n",
    "                printf(\"%s*\\n\", path); // Ponemos * para indicar que es un ejecutable.\n",
    "            } \n",
    "            else {\n",
    "                printf(\"%s-\\n\", path); // Ponemos - para indicar que es un fichero regular.\n",
    "            }\n",
    "        }\n",
    "    }\n",
    "    return 0; // devolver 0 si no hay error\n",
    "}"
   ]
  }
 ],
 "metadata": {
  "language_info": {
   "name": "python"
  }
 },
 "nbformat": 4,
 "nbformat_minor": 5
}
